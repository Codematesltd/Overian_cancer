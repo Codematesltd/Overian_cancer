{
 "cells": [
  {
   "cell_type": "code",
   "execution_count": null,
   "id": "91381051",
   "metadata": {},
   "outputs": [],
   "source": [
    "import pandas as pd\n",
    "import numpy as np\n",
    "from sklearn.model_selection import train_test_split\n",
    "from sklearn.ensemble import RandomForestClassifier\n",
    "import pickle\n",
    "\n",
    "# Load your dataset\n",
    "df = pd.read_csv('your_dataset.csv')  # Replace with your dataset path\n",
    "\n",
    "# Define features (make sure you have all 18 features)\n",
    "features = ['age', 'ca125_level', 'tumor_size', 'ascites', 'bilateral', \n",
    "           'capsule', 'septation', 'echogenicity', 'structure', \n",
    "           'metastasis', 'surgery_type', 'stage', 'grade', 'lymph_nodes',\n",
    "           'family_history', 'previous_cancer', 'hormone_therapy', 'menopause_status']\n",
    "\n",
    "X = df[features]\n",
    "y = df['target']  # Your target variable\n",
    "\n",
    "# Train model\n",
    "rf_model = RandomForestClassifier(random_state=42)\n",
    "rf_model.fit(X, y)\n",
    "\n",
    "# Save model\n",
    "with open('ovarian_cancer_model.pkl', 'wb') as f:\n",
    "    pickle.dump(rf_model, f)"
   ]
  }
 ],
 "metadata": {
  "language_info": {
   "name": "python"
  }
 },
 "nbformat": 4,
 "nbformat_minor": 5
}
